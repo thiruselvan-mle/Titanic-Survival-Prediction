{
 "cells": [
  {
   "cell_type": "markdown",
   "id": "7972425b-54b0-4797-a926-6a82f7c647c1",
   "metadata": {},
   "source": [
    "# Data Cleaning (Titanic Dataset)\n",
    "\n",
    "In this notebook, we will:\n",
    "- Handle missing values\n",
    "- Drop unnecessary columns\n",
    "- Create new features if needed\n",
    "- Prepare dataset for further analysis\n",
    "- Save cleaned dataset for future use\n",
    "\n",
    "Cleaning is important because models cannot handle messy data with missing or irrelevant columns."
   ]
  },
  {
   "cell_type": "markdown",
   "id": "c9769b3b-9575-45a5-adbc-d6c60580becb",
   "metadata": {},
   "source": [
    "### Step 1: Set Project Root for Python Imports"
   ]
  },
  {
   "cell_type": "code",
   "execution_count": 1,
   "id": "4b8e5e14-5e68-418d-bd6b-b0cc44de0c6d",
   "metadata": {},
   "outputs": [],
   "source": [
    "import sys\n",
    "import os\n",
    "\n",
    "# Add project root to sys.path\n",
    "sys.path.append(os.path.abspath(\"..\")) "
   ]
  },
  {
   "cell_type": "markdown",
   "id": "87397afb-d019-4fa6-9fec-2375bd7b1d6c",
   "metadata": {},
   "source": [
    "### Step 2: Load Dataset\n",
    "- Load Titanic dataset and verify the first few rows to understand structure."
   ]
  },
  {
   "cell_type": "code",
   "execution_count": 2,
   "id": "c83c88dc-1890-4f42-88d3-7686facd5078",
   "metadata": {},
   "outputs": [
    {
     "name": "stdout",
     "output_type": "stream",
     "text": [
      "   PassengerId  Survived  Pclass  \\\n",
      "0            1         0       3   \n",
      "1            2         1       1   \n",
      "2            3         1       3   \n",
      "3            4         1       1   \n",
      "4            5         0       3   \n",
      "\n",
      "                                                Name     Sex   Age  SibSp  \\\n",
      "0                            Braund, Mr. Owen Harris    male  22.0      1   \n",
      "1  Cumings, Mrs. John Bradley (Florence Briggs Th...  female  38.0      1   \n",
      "2                             Heikkinen, Miss. Laina  female  26.0      0   \n",
      "3       Futrelle, Mrs. Jacques Heath (Lily May Peel)  female  35.0      1   \n",
      "4                           Allen, Mr. William Henry    male  35.0      0   \n",
      "\n",
      "   Parch            Ticket     Fare Cabin Embarked  \n",
      "0      0         A/5 21171   7.2500   NaN        S  \n",
      "1      0          PC 17599  71.2833   C85        C  \n",
      "2      0  STON/O2. 3101282   7.9250   NaN        S  \n",
      "3      0            113803  53.1000  C123        S  \n",
      "4      0            373450   8.0500   NaN        S  \n"
     ]
    }
   ],
   "source": [
    "# We Load The Titanic Dataset\n",
    "from src.data import load_data\n",
    "df= load_data(r\"D:\\Thiru\\ML_Projects\\Titanic-Survival-Prediction\\Data\\Raw\\train.csv\")\n",
    "\n",
    "# Show First 5 Rows\n",
    "print(df.head(5))"
   ]
  },
  {
   "cell_type": "markdown",
   "id": "6f958c33-61f1-431f-aaf5-5f83aea6ab79",
   "metadata": {},
   "source": [
    "### Step 3:Missing Values\n",
    "- Age and Cabin have many missing entries.\n",
    "- Embarked has a few missing values.\n",
    "- We need to decide strategies for imputing or dropping these columns."
   ]
  },
  {
   "cell_type": "code",
   "execution_count": 3,
   "id": "e7b5c467-0706-415c-919c-53504445ef7a",
   "metadata": {},
   "outputs": [
    {
     "data": {
      "text/plain": [
       "PassengerId      0\n",
       "Survived         0\n",
       "Pclass           0\n",
       "Name             0\n",
       "Sex              0\n",
       "Age            177\n",
       "SibSp            0\n",
       "Parch            0\n",
       "Ticket           0\n",
       "Fare             0\n",
       "Cabin          687\n",
       "Embarked         2\n",
       "dtype: int64"
      ]
     },
     "execution_count": 3,
     "metadata": {},
     "output_type": "execute_result"
    }
   ],
   "source": [
    "df.isnull().sum()"
   ]
  },
  {
   "cell_type": "markdown",
   "id": "6234dd01-0a72-4215-bc57-c39d6ef5d0d2",
   "metadata": {},
   "source": [
    "### Step 4: Handle missing values\n",
    "- **Age** → fill with median (better than mean because of outliers)\n",
    "- **Embarked** → fill with mode (most common value)\n",
    "- **Cabin** → drop column (too many missing values)"
   ]
  },
  {
   "cell_type": "code",
   "execution_count": 4,
   "id": "5cc8729e-0913-4b3b-aef4-53bc07464915",
   "metadata": {},
   "outputs": [],
   "source": [
    "from src.data import preprocess_mis_val\n",
    "df=preprocess_mis_val(df)"
   ]
  },
  {
   "cell_type": "markdown",
   "id": "0e107939-bff3-4992-a95c-cea92c284798",
   "metadata": {},
   "source": [
    "### Step 5: Dropping Columns\n",
    "- PassengerId, Name, and Ticket are dropped as they are not useful for prediction."
   ]
  },
  {
   "cell_type": "code",
   "execution_count": 5,
   "id": "de829eff-e09a-48af-a464-95dfbbba5166",
   "metadata": {},
   "outputs": [],
   "source": [
    "from src.data import drop_cols\n",
    "df=drop_cols(df)"
   ]
  },
  {
   "cell_type": "markdown",
   "id": "2806f2ba-7a47-4e27-a397-89325c3e25d0",
   "metadata": {},
   "source": [
    "### Step 6: Feature Engineering\n",
    "- FamilySize: total family members on board.  \n",
    "- IsAlone: 1 if passenger is alone, 0 otherwise.  \n",
    "- These features may help improve model performance."
   ]
  },
  {
   "cell_type": "code",
   "execution_count": 6,
   "id": "5eebe9fe-04d6-4dda-a414-ce4415c80e2d",
   "metadata": {},
   "outputs": [],
   "source": [
    "from src.data import feature_engi\n",
    "df=feature_engi(df)"
   ]
  },
  {
   "cell_type": "markdown",
   "id": "260afffe-fa0b-4ef5-b2ce-93e7b3f85647",
   "metadata": {},
   "source": [
    "### Step 7: Encoding Categorical Variables\n",
    "- Sex and Embarked columns are converted to numeric values for modeling."
   ]
  },
  {
   "cell_type": "code",
   "execution_count": 7,
   "id": "305d4c0d-689c-47f7-832c-10d5aec533a5",
   "metadata": {},
   "outputs": [],
   "source": [
    "from src.data import encode_var\n",
    "df=encode_var(df)"
   ]
  },
  {
   "cell_type": "markdown",
   "id": "ada95d2c-1d56-4349-8001-eb2fd6215815",
   "metadata": {},
   "source": [
    "### Step 8: Final check\n",
    "We confirm there are no missing values and data is clean."
   ]
  },
  {
   "cell_type": "code",
   "execution_count": 8,
   "id": "0f5d6447-c91f-49c0-8503-5caf195c76d1",
   "metadata": {},
   "outputs": [
    {
     "name": "stdout",
     "output_type": "stream",
     "text": [
      "<class 'pandas.core.frame.DataFrame'>\n",
      "RangeIndex: 891 entries, 0 to 890\n",
      "Data columns (total 10 columns):\n",
      " #   Column      Non-Null Count  Dtype  \n",
      "---  ------      --------------  -----  \n",
      " 0   Survived    891 non-null    int64  \n",
      " 1   Pclass      891 non-null    int64  \n",
      " 2   Sex         891 non-null    int64  \n",
      " 3   Age         891 non-null    float64\n",
      " 4   SibSp       891 non-null    int64  \n",
      " 5   Parch       891 non-null    int64  \n",
      " 6   Fare        891 non-null    float64\n",
      " 7   Embarked    891 non-null    int64  \n",
      " 8   FamilySize  891 non-null    int64  \n",
      " 9   IsAlone     891 non-null    int64  \n",
      "dtypes: float64(2), int64(8)\n",
      "memory usage: 69.7 KB\n",
      "   Survived  Pclass  Sex   Age  SibSp  Parch     Fare  Embarked  FamilySize  \\\n",
      "0         0       3    0  22.0      1      0   7.2500         2           2   \n",
      "1         1       1    1  38.0      1      0  71.2833         0           2   \n",
      "2         1       3    1  26.0      0      0   7.9250         2           1   \n",
      "3         1       1    1  35.0      1      0  53.1000         2           2   \n",
      "4         0       3    0  35.0      0      0   8.0500         2           1   \n",
      "\n",
      "   IsAlone  \n",
      "0        0  \n",
      "1        0  \n",
      "2        1  \n",
      "3        0  \n",
      "4        1  \n"
     ]
    }
   ],
   "source": [
    "from src.data import basic_info\n",
    "df=basic_info(df)"
   ]
  },
  {
   "cell_type": "markdown",
   "id": "e297511e-cad4-4785-aa38-00e83ef29ccc",
   "metadata": {},
   "source": [
    "### Step 7: Save cleaned dataset\n",
    "We save the cleaned and processed dataset so it can be reused in future notebooks."
   ]
  },
  {
   "cell_type": "code",
   "execution_count": 9,
   "id": "fcab2336-889f-4cad-aae0-785135981b1d",
   "metadata": {},
   "outputs": [
    {
     "name": "stdout",
     "output_type": "stream",
     "text": [
      "Cleaned dataset saved to D:\\Thiru\\ML_Projects\\Titanic-Survival-Prediction\\Data\\processed\\cleaned_titanic.csv\n"
     ]
    }
   ],
   "source": [
    "from src.data import save_clean_data\n",
    "df=save_clean_data(df)"
   ]
  },
  {
   "cell_type": "markdown",
   "id": "ebf0c79d-9741-455c-b91a-9e93e116c139",
   "metadata": {},
   "source": [
    "### Summary\n",
    "- Handled missing values:\n",
    "  - Filled Age with median\n",
    "  - Filled Embarked with mode\n",
    "  - Dropped Cabin\n",
    "- Dropped irrelevant columns: PassengerId, Name, Ticket\n",
    "- Added new features: FamilySize, IsAlone\n",
    "- Encoded categorical variables (Sex, Embarked)\n",
    "- Dataset is now clean and ready for EDA and modeling.\n",
    "- - **Saved the cleaned dataset** to `D:\\Thiru\\ML_Projects\\Titanic-Survival-Prediction\\Data\\processed\\cleaned_titanic.csv` for use in future notebooks.\n"
   ]
  }
 ],
 "metadata": {
  "kernelspec": {
   "display_name": "Python (ML Environment)",
   "language": "python",
   "name": "ml-env"
  },
  "language_info": {
   "codemirror_mode": {
    "name": "ipython",
    "version": 3
   },
   "file_extension": ".py",
   "mimetype": "text/x-python",
   "name": "python",
   "nbconvert_exporter": "python",
   "pygments_lexer": "ipython3",
   "version": "3.9.6"
  }
 },
 "nbformat": 4,
 "nbformat_minor": 5
}
