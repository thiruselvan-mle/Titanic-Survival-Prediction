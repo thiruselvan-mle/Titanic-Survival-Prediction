{
 "cells": [
  {
   "cell_type": "code",
   "execution_count": null,
   "id": "d8510dad-9c73-485e-b81b-b78c05dbfa98",
   "metadata": {
    "editable": true,
    "slideshow": {
     "slide_type": ""
    },
    "tags": []
   },
   "outputs": [],
   "source": [
    "import pandas as pd\n",
    "import numpy as np\n",
    "import seaborn as sns\n",
    "from matplotlib import pyplot as plt"
   ]
  },
  {
   "cell_type": "code",
   "execution_count": null,
   "id": "a6b1eeaf-db54-43ea-b5ba-d1c278902a11",
   "metadata": {},
   "outputs": [],
   "source": [
    "df=pd.read_csv(r\"D:\\Thiru\\ML_Projects\\Titanic-Survival-Prediction\\Data\\Raw Data\\train.csv\")"
   ]
  },
  {
   "cell_type": "code",
   "execution_count": null,
   "id": "5c126df2-212a-4650-920b-a38cc566d10c",
   "metadata": {},
   "outputs": [],
   "source": [
    "print(df.head(5))"
   ]
  },
  {
   "cell_type": "code",
   "execution_count": null,
   "id": "1b105d8f-9b8c-4186-bd85-5845bcb30a38",
   "metadata": {},
   "outputs": [],
   "source": [
    "print(df.tail(5))"
   ]
  },
  {
   "cell_type": "code",
   "execution_count": null,
   "id": "7bc8e84a-2f95-4041-84d8-1ab4af35cc65",
   "metadata": {},
   "outputs": [],
   "source": [
    "#Basic Info\n",
    "print(df.info)\n",
    "print('\\n')\n",
    "print(df.shape)\n",
    "print('\\n')\n",
    "print(df.columns)\n",
    "print('\\n')\n",
    "print(df.shape)\n",
    "print('\\n')\n",
    "print(df.describe())"
   ]
  },
  {
   "cell_type": "code",
   "execution_count": null,
   "id": "52c4ac03-2bce-4e5d-b9d0-35ffac17bb9b",
   "metadata": {},
   "outputs": [],
   "source": [
    "##Missing Values\n",
    "print(df.isnull().sum())"
   ]
  },
  {
   "cell_type": "code",
   "execution_count": null,
   "id": "d1c5d217-0bfb-42e5-bbee-c9164a6412a2",
   "metadata": {},
   "outputs": [],
   "source": [
    "# Survival counts\n",
    "sns.countplot(x=\"Survived\", data=df)\n",
    "plt.show()"
   ]
  },
  {
   "cell_type": "code",
   "execution_count": null,
   "id": "5ba5f3de-61bd-440e-9c84-def757f972f1",
   "metadata": {},
   "outputs": [],
   "source": [
    "#Survival by gender\n",
    "sns.countplot(x=\"Survived\", hue=\"Sex\", data=df)\n",
    "plt.show()"
   ]
  },
  {
   "cell_type": "code",
   "execution_count": null,
   "id": "5e9572db-399c-4c78-a108-84031a114e2e",
   "metadata": {},
   "outputs": [],
   "source": [
    "sns.countplot(x=\"Survived\", hue=\"Pclass\", data=df, palette=\"muted\")\n",
    "plt.title(\"Survival by Passenger Class\")\n",
    "plt.show()\n"
   ]
  },
  {
   "cell_type": "code",
   "execution_count": null,
   "id": "89bce534-11c5-42e4-8b25-49244275dcc7",
   "metadata": {},
   "outputs": [],
   "source": [
    "plt.figure(figsize=(8,5))\n",
    "sns.histplot(df[\"Age\"].dropna(), bins=30, kde=True, color=\"skyblue\")\n",
    "plt.title(\"Age Distribution\")\n",
    "plt.show()\n"
   ]
  },
  {
   "cell_type": "code",
   "execution_count": null,
   "id": "97fa876d-4c33-4d0d-b8c2-8c118c05c20f",
   "metadata": {},
   "outputs": [],
   "source": [
    "sns.countplot(x=\"Survived\", hue=\"Embarked\", data=df, palette=\"Set1\")\n",
    "plt.title(\"Survival by Embarked Port\")\n",
    "plt.show()\n"
   ]
  },
  {
   "cell_type": "code",
   "execution_count": null,
   "id": "a93fa4d7-54ca-48ce-bd90-73478bd306cc",
   "metadata": {},
   "outputs": [],
   "source": [
    "corr = df.corr(numeric_only=True)\n",
    "plt.figure(figsize=(10,6))\n",
    "sns.heatmap(corr, annot=True, cmap=\"coolwarm\", linewidths=0.5)\n",
    "plt.title(\"Correlation Heatmap\")\n",
    "plt.show()\n"
   ]
  }
 ],
 "metadata": {
  "kernelspec": {
   "display_name": "Python 3",
   "language": "python",
   "name": "python3"
  },
  "language_info": {
   "codemirror_mode": {
    "name": "ipython",
    "version": 3
   },
   "file_extension": ".py",
   "mimetype": "text/x-python",
   "name": "python",
   "nbconvert_exporter": "python",
   "pygments_lexer": "ipython3",
   "version": "3.9.6"
  }
 },
 "nbformat": 4,
 "nbformat_minor": 5
}
