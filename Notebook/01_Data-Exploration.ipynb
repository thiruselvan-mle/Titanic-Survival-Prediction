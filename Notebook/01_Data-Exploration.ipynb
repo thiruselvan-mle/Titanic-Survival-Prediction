{
 "cells": [
  {
   "cell_type": "markdown",
   "id": "f46b6c37-7a66-4e82-b309-11ce365d2ca9",
   "metadata": {},
   "source": [
    "# Data Exploration (Titanic Dataset)\n",
    "\n",
    "In this notebook, we will:\n",
    "- Load the Titanic dataset\n",
    "- Explore dataset shape and structure\n",
    "- List all columns\n",
    "- Understand column types and basic statistics\n",
    "- Check for missing values\n",
    "\n",
    "This helps us understand the **pattern of the dataset** before cleaning or modeling.\n"
   ]
  },
  {
   "cell_type": "code",
   "execution_count": 1,
   "id": "2ecea02c-ebf9-4905-85b0-cd6972660497",
   "metadata": {},
   "outputs": [],
   "source": [
    "# Importing Essential Library\n",
    "import pandas as pd"
   ]
  },
  {
   "cell_type": "markdown",
   "id": "af557390-e3ae-4486-b792-edb7f7d3b42a",
   "metadata": {},
   "source": [
    "### Step 1: Load Titanic dataset\n",
    "We first load the Titanic dataset into a Pandas DataFrame and preview the first 5 rows."
   ]
  },
  {
   "cell_type": "code",
   "execution_count": 2,
   "id": "d9b62114-3d1e-496d-8eef-0bd390f06cb3",
   "metadata": {},
   "outputs": [
    {
     "name": "stdout",
     "output_type": "stream",
     "text": [
      "   PassengerId  Survived  Pclass  \\\n",
      "0            1         0       3   \n",
      "1            2         1       1   \n",
      "2            3         1       3   \n",
      "3            4         1       1   \n",
      "4            5         0       3   \n",
      "\n",
      "                                                Name     Sex   Age  SibSp  \\\n",
      "0                            Braund, Mr. Owen Harris    male  22.0      1   \n",
      "1  Cumings, Mrs. John Bradley (Florence Briggs Th...  female  38.0      1   \n",
      "2                             Heikkinen, Miss. Laina  female  26.0      0   \n",
      "3       Futrelle, Mrs. Jacques Heath (Lily May Peel)  female  35.0      1   \n",
      "4                           Allen, Mr. William Henry    male  35.0      0   \n",
      "\n",
      "   Parch            Ticket     Fare Cabin Embarked  \n",
      "0      0         A/5 21171   7.2500   NaN        S  \n",
      "1      0          PC 17599  71.2833   C85        C  \n",
      "2      0  STON/O2. 3101282   7.9250   NaN        S  \n",
      "3      0            113803  53.1000  C123        S  \n",
      "4      0            373450   8.0500   NaN        S  \n"
     ]
    }
   ],
   "source": [
    "# Load Titanic Dataset\n",
    "df = pd.read_csv(r\"D:\\Thiru\\ML_Projects\\Titanic-Survival-Prediction\\Data\\Raw Data\\train.csv\")\n",
    "\n",
    "# Show First 5 Rows\n",
    "print(df.head(5))"
   ]
  },
  {
   "cell_type": "markdown",
   "id": "6cb17c02-da86-4c3e-9298-7e3b08a54e04",
   "metadata": {},
   "source": [
    "### Step 2: View last 5 rows\n",
    "Checking the last few rows helps us confirm the data is loaded correctly and consistent till the end."
   ]
  },
  {
   "cell_type": "code",
   "execution_count": 8,
   "id": "af557974-c928-4c8b-ae1a-2437f506936c",
   "metadata": {},
   "outputs": [
    {
     "name": "stdout",
     "output_type": "stream",
     "text": [
      "     PassengerId  Survived  Pclass                                      Name  \\\n",
      "886          887         0       2                     Montvila, Rev. Juozas   \n",
      "887          888         1       1              Graham, Miss. Margaret Edith   \n",
      "888          889         0       3  Johnston, Miss. Catherine Helen \"Carrie\"   \n",
      "889          890         1       1                     Behr, Mr. Karl Howell   \n",
      "890          891         0       3                       Dooley, Mr. Patrick   \n",
      "\n",
      "        Sex   Age  SibSp  Parch      Ticket   Fare Cabin Embarked  \n",
      "886    male  27.0      0      0      211536  13.00   NaN        S  \n",
      "887  female  19.0      0      0      112053  30.00   B42        S  \n",
      "888  female   NaN      1      2  W./C. 6607  23.45   NaN        S  \n",
      "889    male  26.0      0      0      111369  30.00  C148        C  \n",
      "890    male  32.0      0      0      370376   7.75   NaN        Q  \n"
     ]
    }
   ],
   "source": [
    "print(df.tail(5))"
   ]
  },
  {
   "cell_type": "markdown",
   "id": "129d0860-cf37-4ad4-80ce-334d53c8e9e8",
   "metadata": {},
   "source": [
    "### Step 3: Check dataset shape\n",
    "This gives the number of rows (samples) and columns (features)."
   ]
  },
  {
   "cell_type": "code",
   "execution_count": 3,
   "id": "5dd1e58b-dac9-4a99-beca-c55a5a19bad3",
   "metadata": {},
   "outputs": [
    {
     "name": "stdout",
     "output_type": "stream",
     "text": [
      "(891, 12)\n"
     ]
    }
   ],
   "source": [
    "print(df.shape)"
   ]
  },
  {
   "cell_type": "markdown",
   "id": "b33527c2-724f-4781-b275-ace94a8d8eca",
   "metadata": {},
   "source": [
    "### Step 4: View column names\n",
    "We can list all the column names to get a quick overview of dataset features."
   ]
  },
  {
   "cell_type": "code",
   "execution_count": 4,
   "id": "f4b0e496-9b9a-4123-bbde-06bf56a18970",
   "metadata": {},
   "outputs": [
    {
     "name": "stdout",
     "output_type": "stream",
     "text": [
      "Index(['PassengerId', 'Survived', 'Pclass', 'Name', 'Sex', 'Age', 'SibSp',\n",
      "       'Parch', 'Ticket', 'Fare', 'Cabin', 'Embarked'],\n",
      "      dtype='object')\n"
     ]
    }
   ],
   "source": [
    "print(df.columns)"
   ]
  },
  {
   "cell_type": "markdown",
   "id": "0091b228-3e0d-4cf8-9b2e-ec34d3f3841b",
   "metadata": {},
   "source": [
    "### Step 5: Dataset information\n",
    "`df.info()` shows column names, datatypes, and number of non-null (non-missing) values."
   ]
  },
  {
   "cell_type": "code",
   "execution_count": 5,
   "id": "0862b455-4ab3-4f90-bfcc-68998fbe10d3",
   "metadata": {},
   "outputs": [
    {
     "name": "stdout",
     "output_type": "stream",
     "text": [
      "<class 'pandas.core.frame.DataFrame'>\n",
      "RangeIndex: 891 entries, 0 to 890\n",
      "Data columns (total 12 columns):\n",
      " #   Column       Non-Null Count  Dtype  \n",
      "---  ------       --------------  -----  \n",
      " 0   PassengerId  891 non-null    int64  \n",
      " 1   Survived     891 non-null    int64  \n",
      " 2   Pclass       891 non-null    int64  \n",
      " 3   Name         891 non-null    object \n",
      " 4   Sex          891 non-null    object \n",
      " 5   Age          714 non-null    float64\n",
      " 6   SibSp        891 non-null    int64  \n",
      " 7   Parch        891 non-null    int64  \n",
      " 8   Ticket       891 non-null    object \n",
      " 9   Fare         891 non-null    float64\n",
      " 10  Cabin        204 non-null    object \n",
      " 11  Embarked     889 non-null    object \n",
      "dtypes: float64(2), int64(5), object(5)\n",
      "memory usage: 83.7+ KB\n",
      "None\n"
     ]
    }
   ],
   "source": [
    "print(df.info())"
   ]
  },
  {
   "cell_type": "markdown",
   "id": "1cedc36e-8e0a-4c5b-a9fb-768a6414ff73",
   "metadata": {},
   "source": [
    "### Step 6: Summary statistics\n",
    "`df.describe()` gives mean, median, standard deviation, and percentiles for numerical columns."
   ]
  },
  {
   "cell_type": "code",
   "execution_count": 6,
   "id": "b781ba98-f64e-43f0-bd7e-debc782804d3",
   "metadata": {},
   "outputs": [
    {
     "name": "stdout",
     "output_type": "stream",
     "text": [
      "       PassengerId    Survived      Pclass         Age       SibSp  \\\n",
      "count   891.000000  891.000000  891.000000  714.000000  891.000000   \n",
      "mean    446.000000    0.383838    2.308642   29.699118    0.523008   \n",
      "std     257.353842    0.486592    0.836071   14.526497    1.102743   \n",
      "min       1.000000    0.000000    1.000000    0.420000    0.000000   \n",
      "25%     223.500000    0.000000    2.000000   20.125000    0.000000   \n",
      "50%     446.000000    0.000000    3.000000   28.000000    0.000000   \n",
      "75%     668.500000    1.000000    3.000000   38.000000    1.000000   \n",
      "max     891.000000    1.000000    3.000000   80.000000    8.000000   \n",
      "\n",
      "            Parch        Fare  \n",
      "count  891.000000  891.000000  \n",
      "mean     0.381594   32.204208  \n",
      "std      0.806057   49.693429  \n",
      "min      0.000000    0.000000  \n",
      "25%      0.000000    7.910400  \n",
      "50%      0.000000   14.454200  \n",
      "75%      0.000000   31.000000  \n",
      "max      6.000000  512.329200  \n"
     ]
    }
   ],
   "source": [
    "print(df.describe())"
   ]
  },
  {
   "cell_type": "markdown",
   "id": "8b5b22b8-645a-49a6-b047-46aaaec2c5c5",
   "metadata": {},
   "source": [
    "### Step 7: Check missing values\n",
    "We count how many missing values each column has.\n"
   ]
  },
  {
   "cell_type": "code",
   "execution_count": 7,
   "id": "b5818bfe-6692-4147-841e-1366cf04fde5",
   "metadata": {},
   "outputs": [
    {
     "data": {
      "text/plain": [
       "PassengerId      0\n",
       "Survived         0\n",
       "Pclass           0\n",
       "Name             0\n",
       "Sex              0\n",
       "Age            177\n",
       "SibSp            0\n",
       "Parch            0\n",
       "Ticket           0\n",
       "Fare             0\n",
       "Cabin          687\n",
       "Embarked         2\n",
       "dtype: int64"
      ]
     },
     "execution_count": 7,
     "metadata": {},
     "output_type": "execute_result"
    }
   ],
   "source": [
    "df.isnull().sum()"
   ]
  },
  {
   "cell_type": "markdown",
   "id": "27bd5a88-66da-4241-8b0b-8e6fe7ace8d0",
   "metadata": {},
   "source": [
    "### Data-Exploration Summary\n",
    "- Dataset has `891` rows and `12` columns .\n",
    "- Columns are a mix of **numerical** and **categorical**.\n",
    "- Missing values are present in:\n",
    "  - `Age` (some missing)\n",
    "  - `Cabin` (many missing)\n",
    "  - `Embarked` (few missing)\n",
    "- Target variable for prediction is **Survived**."
   ]
  }
 ],
 "metadata": {
  "kernelspec": {
   "display_name": "Python (ML Environment)",
   "language": "python",
   "name": "ml-env"
  },
  "language_info": {
   "codemirror_mode": {
    "name": "ipython",
    "version": 3
   },
   "file_extension": ".py",
   "mimetype": "text/x-python",
   "name": "python",
   "nbconvert_exporter": "python",
   "pygments_lexer": "ipython3",
   "version": "3.9.6"
  }
 },
 "nbformat": 4,
 "nbformat_minor": 5
}
