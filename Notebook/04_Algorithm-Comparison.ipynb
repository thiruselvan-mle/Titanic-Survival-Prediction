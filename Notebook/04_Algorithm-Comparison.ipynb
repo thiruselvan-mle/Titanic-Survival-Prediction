{
 "cells": [
  {
   "cell_type": "markdown",
   "id": "9e18bd77-0b73-409d-b9bc-2763ecced63a",
   "metadata": {},
   "source": [
    "# Model Training & Algorithm Comparison\n",
    "In this notebook, we will:\n",
    "1. Split the dataset into training and testing sets.  \n",
    "2. Train multiple algorithms on the training set.  \n",
    "3. Use **10-fold cross-validation** to evaluate accuracy.  \n",
    "4. Compare results visually using a bar chart, box plot and accuracy table.\n",
    "\n",
    "This step helps us identify the best-performing models before tuning.\n"
   ]
  },
  {
   "cell_type": "markdown",
   "id": "1ced7563-6a82-4435-a134-76c282eb440c",
   "metadata": {},
   "source": [
    "### Step 1: Set Project Root for Python Imports"
   ]
  },
  {
   "cell_type": "code",
   "execution_count": 1,
   "id": "ea661e38-7ec5-4208-adee-bbb7ece0f8a9",
   "metadata": {},
   "outputs": [],
   "source": [
    "import sys \n",
    "import os \n",
    "\n",
    "sys.path.append(os.path.abspath('..'))"
   ]
  },
  {
   "cell_type": "markdown",
   "id": "6def700f-56ec-4771-b8fc-150150467c53",
   "metadata": {},
   "source": [
    "### Step 2: Load Titanic dataset\n",
    "We first load the Titanic dataset into a Pandas DataFrame and preview the first 5 rows."
   ]
  },
  {
   "cell_type": "code",
   "execution_count": 2,
   "id": "9558fc53-a01a-4642-9c68-a4ae5b90c381",
   "metadata": {},
   "outputs": [
    {
     "name": "stdout",
     "output_type": "stream",
     "text": [
      "   Survived  Pclass  Sex   Age  SibSp  Parch     Fare  Embarked  FamilySize  \\\n",
      "0         0       3    0  22.0      1      0   7.2500         2           2   \n",
      "1         1       1    1  38.0      1      0  71.2833         0           2   \n",
      "2         1       3    1  26.0      0      0   7.9250         2           1   \n",
      "3         1       1    1  35.0      1      0  53.1000         2           2   \n",
      "4         0       3    0  35.0      0      0   8.0500         2           1   \n",
      "\n",
      "   IsAlone  \n",
      "0        0  \n",
      "1        0  \n",
      "2        1  \n",
      "3        0  \n",
      "4        1  \n"
     ]
    }
   ],
   "source": [
    "from src.data import load_data\n",
    "\n",
    "df =load_data(r\"D:\\Thiru\\ML_Projects\\Titanic-Survival-Prediction\\Data\\processed\\cleaned_titanic.csv\")\n",
    "print(df.head(5))"
   ]
  },
  {
   "cell_type": "markdown",
   "id": "3bf54dc4-6394-42f5-9474-726922139b2f",
   "metadata": {},
   "source": [
    "### Step 3: Separate features (X) and target (y)\n",
    "- Target variable: `Survived`\n",
    "- Features: all other columns"
   ]
  },
  {
   "cell_type": "code",
   "execution_count": 3,
   "id": "525272ee-aff2-47bd-9aa8-42a4268fdcf0",
   "metadata": {},
   "outputs": [
    {
     "name": "stdout",
     "output_type": "stream",
     "text": [
      "Features Columns: Index(['Pclass', 'Sex', 'Age', 'SibSp', 'Parch', 'Fare', 'Embarked',\n",
      "       'FamilySize', 'IsAlone'],\n",
      "      dtype='object')\n",
      "\n",
      "\n",
      "Target Column Survived\n"
     ]
    }
   ],
   "source": [
    "from src.model import separate_x_y\n",
    "X, Y=separate_x_y(df)"
   ]
  },
  {
   "cell_type": "markdown",
   "id": "3108a625-ff61-4fa8-bf6a-ea9edb35bb3a",
   "metadata": {},
   "source": [
    "### Step 4: Split data into training and testing sets\n",
    "- 80% training, 20% testing\n",
    "- Random state for reproducibility"
   ]
  },
  {
   "cell_type": "code",
   "execution_count": 4,
   "id": "31b82dd8-9d96-4b1e-84c8-a6c712347905",
   "metadata": {},
   "outputs": [
    {
     "name": "stdout",
     "output_type": "stream",
     "text": [
      "Training Samples 712\n",
      "Testing Samples 179\n"
     ]
    }
   ],
   "source": [
    "from src.model import split_train_test\n",
    "X_train, X_test, Y_train, Y_test=split_train_test(X,Y)"
   ]
  },
  {
   "cell_type": "markdown",
   "id": "7f84686e-e765-4fff-b07c-2ea3ee84ee92",
   "metadata": {},
   "source": [
    "### Step 5: Train ML models\n",
    "We will train:\n",
    "- Logistic Regression\n",
    "- Decision Tree Classifier\n",
    "- Random Forest Classifier\n",
    "- GradientBoostingClassifier\n",
    "- K-Nearest Neighbors\n",
    "- SVM\n",
    "- LinearDiscriminantAnalysis\n",
    "- GaussianNB"
   ]
  },
  {
   "cell_type": "code",
   "execution_count": 5,
   "id": "a029b4b8-dd2c-453a-b034-24ca1f540e58",
   "metadata": {},
   "outputs": [
    {
     "name": "stdout",
     "output_type": "stream",
     "text": [
      "LR: 80.616197%\n",
      "DT: 76.412363%\n",
      "RFC: 79.915884%\n",
      "GBC: 82.020736%\n",
      "KNN: 70.373631%\n",
      "SVC: 67.271127%\n",
      "LDA: 79.070814%\n",
      "NB: 78.785211%\n"
     ]
    }
   ],
   "source": [
    "from src.model import train_ml_model\n",
    "names, res, results=train_ml_model(X_train,Y_train)"
   ]
  },
  {
   "cell_type": "markdown",
   "id": "50f929b1-8b77-4ba8-8762-6c1cd00b7357",
   "metadata": {},
   "source": [
    "### Step 6: Compare accuracy using bar plot\n",
    "We can visualize which model performed best."
   ]
  },
  {
   "cell_type": "code",
   "execution_count": 6,
   "id": "f0f36bf2-06c4-4217-b015-7a08df120ac8",
   "metadata": {},
   "outputs": [
    {
     "data": {
      "image/png": "[encoded data removed]",
      "text/plain": [
       "<Figure size 1000x500 with 1 Axes>"
      ]
     },
     "metadata": {},
     "output_type": "display_data"
    }
   ],
   "source": [
    "from src.model import plot_accu_bar\n",
    "plot_accu_bar(names, res)"
   ]
  },
  {
   "cell_type": "markdown",
   "id": "817450f2-4c30-442a-bc1f-0c49fc443d61",
   "metadata": {},
   "source": [
    "### Model Comparison Insights\n",
    "\n",
    "- **Gradient Boosting (GBC)** achieved the highest accuracy (**82.0%**), making it the best candidate model for the Titanic dataset.  \n",
    "- **Logistic Regression (80.6%)**, **Random Forest (79.9%)**, and **LDA (79.0%)** also performed strongly, showing that both simple linear models and ensembles work well.  \n",
    "- **Naive Bayes (78.8%)** gave reasonable results, while **Decision Tree (76.4%)** performed worse than its ensemble counterpart, indicating overfitting.  \n",
    "- **KNN (70.3%)** and **SVC (67.2%)** performed poorly, likely due to lack of proper scaling or hyperparameter tuning.  \n",
    "- Overall, **ensemble models (GBC, RFC)** provided the best generalization, but Logistic Regression also stands out as a surprisingly strong baseline. "
   ]
  },
  {
   "cell_type": "markdown",
   "id": "42fd7477-683e-4ede-af56-cdf0484495fd",
   "metadata": {},
   "source": [
    "### Step 7: Compare accuracy using box plot\n",
    "We can visualize which model performed best."
   ]
  },
  {
   "cell_type": "code",
   "execution_count": 6,
   "id": "b6a757dc-2b09-45a6-bcc6-a12a4b8a8bbc",
   "metadata": {},
   "outputs": [
    {
     "data": {
      "image/png": "[encoded data removed]",
      "text/plain": [
       "<Figure size 1000x500 with 1 Axes>"
      ]
     },
     "metadata": {},
     "output_type": "display_data"
    }
   ],
   "source": [
    "from src.model import plot_accu_box\n",
    "plot_accu_box(results, names)"
   ]
  },
  {
   "cell_type": "markdown",
   "id": "605b6bc1-6ff7-4783-9001-7e180388e3e4",
   "metadata": {},
   "source": [
    "### Boxplot Insights (10-Fold CV)\n",
    "\n",
    "- **Gradient Boosting (GBC)** shows the highest median accuracy, with relatively stable performance across folds.  \n",
    "- **Logistic Regression (LR)** and **Random Forest (RFC)** also demonstrate strong and consistent performance, with narrow boxes indicating stability.  \n",
    "- **Decision Tree (DT)** shows more variability across folds, confirming its tendency to overfit.  \n",
    "- **KNN** and **SVC** not only have lower median accuracy but also higher spread, meaning they are both less accurate and less stable.  \n",
    "- Overall, **ensemble methods (GBC, RFC)** and **LR** are not only more accurate but also more reliable compared to other models.  "
   ]
  },
  {
   "cell_type": "markdown",
   "id": "7bceb379-544c-4454-a198-783ea6ba7658",
   "metadata": {},
   "source": [
    "### step 8: Accurancy table\n",
    "Create a DataFrame to summarize model accuracies"
   ]
  },
  {
   "cell_type": "code",
   "execution_count": 8,
   "id": "4379caa3-9991-4755-b626-10974cb50b95",
   "metadata": {},
   "outputs": [
    {
     "name": "stdout",
     "output_type": "stream",
     "text": [
      "  Models  Mean_Accuracy\n",
      "3    GBC          82.02\n",
      "0     LR          80.62\n",
      "2    RFC          79.92\n",
      "6    LDA          79.07\n",
      "7     NB          78.79\n",
      "1     DT          76.41\n",
      "4    KNN          70.37\n",
      "5    SVC          67.27\n"
     ]
    }
   ],
   "source": [
    "from src.model import accu_table\n",
    "accu_table(names, res)"
   ]
  },
  {
   "cell_type": "markdown",
   "id": "9dd64a23-1803-44a7-bd98-41fe53b6163c",
   "metadata": {},
   "source": [
    "### Insights\n",
    "- Clear table showing each model's mean accuracy\n",
    "- Best models can be selected for final evaluation (usually LR or GBC)"
   ]
  },
  {
   "cell_type": "markdown",
   "id": "5706c974-a807-48fe-abc4-4a05a5d3f11d",
   "metadata": {},
   "source": [
    "## Summary\n",
    "\n",
    "- Dataset split: 80% training / 20% testing\n",
    "- Trained **8 ML algorithms**:\n",
    "  - Logistic Regression (LR)\n",
    "  - Decision Tree (DT)\n",
    "  - Random Forest (RFC)\n",
    "  - Gradient Boosting (GBC)\n",
    "  - K-Nearest Neighbors (KNN)\n",
    "  - Support Vector Classifier (SVC)\n",
    "  - Linear Discriminant Analysis (LDA)\n",
    "  - Naive Bayes (NB)\n",
    "- Evaluated using **10-fold Stratified Cross-Validation**\n",
    "- Bar chart, Box plot and accuracy table show model performance\n",
    "\n",
    "### Key Takeaways\n",
    "- **Gradient Boosting** and **Random Forest** performed best\n",
    "- Logistic Regression is a solid baseline\n",
    "- Ensemble methods are most commonly used in real-world projects for tabular data"
   ]
  }
 ],
 "metadata": {
  "kernelspec": {
   "display_name": "Python (ML Environment)",
   "language": "python",
   "name": "ml-env"
  },
  "language_info": {
   "codemirror_mode": {
    "name": "ipython",
    "version": 3
   },
   "file_extension": ".py",
   "mimetype": "text/x-python",
   "name": "python",
   "nbconvert_exporter": "python",
   "pygments_lexer": "ipython3",
   "version": "3.9.6"
  }
 },
 "nbformat": 4,
 "nbformat_minor": 5
}
