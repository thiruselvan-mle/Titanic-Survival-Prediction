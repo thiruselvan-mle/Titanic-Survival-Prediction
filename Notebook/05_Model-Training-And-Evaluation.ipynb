{
 "cells": [
  {
   "cell_type": "markdown",
   "id": "ce558a70-13d6-49ea-9d5f-97e35d06f9ac",
   "metadata": {},
   "source": [
    "# Model Evaluation (Titanic Dataset)\n",
    "\n",
    "In this notebook, we will:\n",
    "- Train the best-performing model fully on the training set\n",
    "- Evaluate performance on the test set\n",
    "- Compare metrics and visualize results\n",
    "- Check feature importance for interpretation\n",
    "- Make predictions for Kaggle test.csv and prepare submission"
   ]
  },
  {
   "cell_type": "markdown",
   "id": "e1129aa5-10c1-4cda-a611-b6ca7ede9a1e",
   "metadata": {},
   "source": [
    "### Step 1: Import libraries and load cleaned dataset\n",
    "We will use Pandas for data manipulation and scikit-learn for ML models."
   ]
  },
  {
   "cell_type": "code",
   "execution_count": 32,
   "id": "09aaec84-79ed-4069-8ee6-2bf2723fc163",
   "metadata": {},
   "outputs": [
    {
     "name": "stdout",
     "output_type": "stream",
     "text": [
      "Training Samples (712, 9)\n",
      "Testing Samples (179, 9)\n"
     ]
    }
   ],
   "source": [
    "import pandas as pd \n",
    "import numpy as np\n",
    "import matplotlib.pyplot as plt\n",
    "import seaborn as sns\n",
    "from sklearn.model_selection import train_test_split\n",
    "from sklearn.ensemble import GradientBoostingClassifier,RandomForestClassifier\n",
    "from sklearn.metrics import accuracy_score, confusion_matrix, classification_report, roc_curve,auc\n",
    "\n",
    "df = pd.read_csv(r\"D:\\Thiru\\ML_Projects\\Titanic-Survival-Prediction\\Data\\processed\\cleaned_titanic.csv\")\n",
    "\n",
    "X=df.drop('Survived',axis=1)\n",
    "Y=df['Survived']\n",
    "\n",
    "X_train, X_test, Y_train, Y_test=train_test_split(X, Y, test_size=.2, random_state=42)\n",
    "\n",
    "print('Training Samples', X_train.shape)\n",
    "print('Testing Samples', X_test.shape)"
   ]
  },
  {
   "cell_type": "markdown",
   "id": "5d772128-3355-436d-a0d3-bd698de08e5d",
   "metadata": {},
   "source": [
    "### Step 2: Train the final model\n",
    "we select **RandomForestClassifier** as our best model."
   ]
  },
  {
   "cell_type": "code",
   "execution_count": 33,
   "id": "d0803e83-849c-46fd-9969-49fb08edee74",
   "metadata": {},
   "outputs": [],
   "source": [
    "model=RandomForestClassifier(random_state=42)\n",
    "\n",
    "model.fit(X_train, Y_train)\n",
    "\n",
    "Y_pred=model.predict(X_test)\n",
    "Y_prob=model.predict_proba(X_test)[:,-1]"
   ]
  },
  {
   "cell_type": "markdown",
   "id": "aff51529-7516-4d56-a997-1d54b6b99fc6",
   "metadata": {},
   "source": [
    "**Explanation:**\n",
    "\n",
    "- Random Forest is selected based on Algorithm-comparison notebook results.\n",
    "- Trained on entire training set.\n",
    "- `y_pred` = predicted classes, `y_prob` = probabilities for ROC/AUC.\n"
   ]
  },
  {
   "cell_type": "markdown",
   "id": "437a7d57-eec6-4f3b-8931-d0cf014db1d0",
   "metadata": {},
   "source": [
    "### Step 3: Accuracy"
   ]
  },
  {
   "cell_type": "code",
   "execution_count": 34,
   "id": "e819915b-69c1-46b9-a35f-038bcbbb9c05",
   "metadata": {},
   "outputs": [
    {
     "name": "stdout",
     "output_type": "stream",
     "text": [
      "Accuracy_Score:81.56\n"
     ]
    }
   ],
   "source": [
    "accu=accuracy_score(Y_pred,Y_test)*100\n",
    "print(f'Accuracy_Score:{accu:.2f}')"
   ]
  },
  {
   "cell_type": "markdown",
   "id": "4851b6b5-06f9-419b-a679-4ffb92a5ce35",
   "metadata": {},
   "source": [
    "**Insight:**\n",
    "\n",
    "- Measures overall correct predictions.\n",
    "- Compare with Algorithm-comparison notebook cross-validation accuracy."
   ]
  },
  {
   "cell_type": "markdown",
   "id": "64d4a878-6b07-4026-aab3-ed0f54288a87",
   "metadata": {},
   "source": [
    "### Step 4: Confusion Matrix"
   ]
  },
  {
   "cell_type": "code",
   "execution_count": 38,
   "id": "13c46b11-a5dc-4552-b6e6-d7813c305703",
   "metadata": {},
   "outputs": [
    {
     "data": {
      "image/png": "[encoded data removed]",
      "text/plain": [
       "<Figure size 640x480 with 2 Axes>"
      ]
     },
     "metadata": {},
     "output_type": "display_data"
    }
   ],
   "source": [
    "cm=confusion_matrix(Y_pred,Y_test)\n",
    "\n",
    "sns.heatmap(cm, annot=True, fmt='d', cmap='Blues')\n",
    "plt.xlabel('Predicted')\n",
    "plt.ylabel('Actual')\n",
    "plt.title('Random Forest Confusion Matrix')\n",
    "plt.show()"
   ]
  },
  {
   "cell_type": "code",
   "execution_count": null,
   "id": "00cf80e9-b864-47bd-b50b-a918da29adbd",
   "metadata": {},
   "outputs": [],
   "source": []
  }
 ],
 "metadata": {
  "kernelspec": {
   "display_name": "Python (ML Environment)",
   "language": "python",
   "name": "ml-env"
  },
  "language_info": {
   "codemirror_mode": {
    "name": "ipython",
    "version": 3
   },
   "file_extension": ".py",
   "mimetype": "text/x-python",
   "name": "python",
   "nbconvert_exporter": "python",
   "pygments_lexer": "ipython3",
   "version": "3.9.6"
  }
 },
 "nbformat": 4,
 "nbformat_minor": 5
}
